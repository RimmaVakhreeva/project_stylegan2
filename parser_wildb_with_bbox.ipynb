{
 "cells": [
  {
   "cell_type": "code",
   "execution_count": null,
   "metadata": {},
   "outputs": [],
   "source": [
    "import requests\n",
    "import shutil\n",
    "\n",
    "from pathlib import Path\n",
    "from tqdm import tqdm\n",
    "from detector_utils import *"
   ]
  },
  {
   "cell_type": "code",
   "execution_count": null,
   "metadata": {},
   "outputs": [],
   "source": [
    "base_path = Path('/Users/rimma_vakhreeva/Desktop/Test')\n",
    "picture_url_3_sign = 'https://img1.wbstatic.net/big/new/{0:03d}0000/{0:03d}{1:04d}-{2}.jpg'\n",
    "picture_url_4_sign = 'https://img1.wbstatic.net/big/new/{0:04d}0000/{0:04d}{1:04d}-{2}.jpg'"
   ]
  },
  {
   "cell_type": "code",
   "execution_count": null,
   "metadata": {},
   "outputs": [],
   "source": [
    "def detect_person_head(image_filename):\n",
    "    return [], []"
   ]
  },
  {
   "cell_type": "code",
   "execution_count": null,
   "metadata": {},
   "outputs": [],
   "source": [
    "def is_valid_by_detections(person_bboxes, head_bboxes):\n",
    "    def _filter_by_conf(bboxes, conf = 0.3):\n",
    "        return [bbox for bbox in bboxes if bbox.meta > conf]\n",
    "\n",
    "    person_bboxes = _filter_by_conf(person_bboxes, 0.2)\n",
    "    head_bboxes = _filter_by_conf(head_bboxes, 0.3)\n",
    "    \n",
    "    # conf - уверенность модели в bounding box\n",
    "    \n",
    "    if len(person_bboxes) != 1 or len(head_bboxes) != 1: \n",
    "        return False\n",
    "    #head и person должны быть одни на картинке\n",
    "    \n",
    "    person_bbox = person_bboxes[0]\n",
    "    head_bbox = head_bboxes[0]\n",
    "    person_bbox.clip_coords()\n",
    "    head_bbox.clip_coords()\n",
    "    \n",
    "    x, y, _, _ = head_bbox.center_xywh()\n",
    "    if y > 0.3:\n",
    "        return False\n",
    "    if x < 0.2 or x > 0.8:\n",
    "        return False\n",
    "    \n",
    "    if person_bbox.width() > 0.65:\n",
    "        return False\n",
    "    x, y, _, _ = person_bbox.center_xywh()\n",
    "    if y < 0.4 or y > 0.6:\n",
    "        return False\n",
    "    if x < 0.4 or x > 0.6:\n",
    "        return False\n",
    "    if 1. - person_bbox.height() > 0.04:\n",
    "        return False\n",
    "    \n",
    "    area_rel = person_bbox.area() / head_bbox.area()\n",
    "    if area_rel < 17. or area_rel > 35.:\n",
    "        return False\n",
    "    \n",
    "    return True"
   ]
  },
  {
   "cell_type": "code",
   "execution_count": null,
   "metadata": {},
   "outputs": [],
   "source": [
    "def save_image(url, output_filename):\n",
    "    response = requests.get(url, stream=True)\n",
    "    if response.status_code != 200:\n",
    "        return\n",
    "    with open(output_filename, 'wb') as out_file:\n",
    "        response.raw.decode_content = True\n",
    "        shutil.copyfileobj(response.raw, out_file)\n",
    "        \n",
    "def url_exists(url):\n",
    "    return requests.get(url).status_code == 200"
   ]
  },
  {
   "cell_type": "code",
   "execution_count": null,
   "metadata": {},
   "outputs": [],
   "source": [
    "# парсер wildberries\n",
    "for category_id in tqdm(range(1, 9999)):\n",
    "    four_sign = category_id > 999 # 4 знака в категории\n",
    "    picture_url = picture_url_4_sign if four_sign else picture_url_3_sign\n",
    "    \n",
    "    if not url_exists(picture_url.format(category_id, 0, '1')):\n",
    "        continue\n",
    "        \n",
    "    for product_id in tqdm(range(0, 9999)):\n",
    "        for view_id in range(1, 10):\n",
    "            url = picture_url.format(category_id, product_id, view_id)\n",
    "            if not url_exists(url):\n",
    "                break\n",
    "                \n",
    "            image_path = base_path / '{0:04d}_{1:03d}_{2}.jpg'.format(category_id, product_id, view_id)\n",
    "            save_image(url, image_path)\n",
    "            person_bboxes, head_bboxes = detect_person_head(image_path)\n",
    "            if not is_valid_by_detections(person_bboxes, head_bboxes):\n",
    "                base_path.unlink()"
   ]
  },
  {
   "cell_type": "code",
   "execution_count": null,
   "metadata": {},
   "outputs": [],
   "source": [
    "images = read_all_images()\n",
    "\n",
    "for image in images:\n",
    "    person_bboxes, head_bboxes = detect_person_head(image)\n",
    "    if not is_valid_by_detections(person_bboxes, head_bboxes):\n",
    "        remove(image)"
   ]
  }
 ],
 "metadata": {
  "kernelspec": {
   "display_name": "Python 3",
   "language": "python",
   "name": "python3"
  },
  "language_info": {
   "codemirror_mode": {
    "name": "ipython",
    "version": 3
   },
   "file_extension": ".py",
   "mimetype": "text/x-python",
   "name": "python",
   "nbconvert_exporter": "python",
   "pygments_lexer": "ipython3",
   "version": "3.7.3"
  }
 },
 "nbformat": 4,
 "nbformat_minor": 4
}
