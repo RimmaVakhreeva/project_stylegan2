{
 "cells": [
  {
   "cell_type": "code",
   "execution_count": null,
   "metadata": {},
   "outputs": [],
   "source": [
    "import tensorflow\n",
    "import numpy as np\n",
    "import tqdm\n",
    "from pathlib import Path\n",
    "\n",
    "import cv2"
   ]
  },
  {
   "cell_type": "code",
   "execution_count": null,
   "metadata": {},
   "outputs": [],
   "source": [
    "base_path = Path('/media/fast/generated_images')\n",
    "images = base_path / 'images'\n",
    "denseposeout = base_path / 'densepose_out'"
   ]
  },
  {
   "cell_type": "code",
   "execution_count": null,
   "metadata": {},
   "outputs": [],
   "source": [
    "for image_filename in tqdm.tqdm(images.iterdir()):\n",
    "    if image_filename.suffix.lower() not in ('.png', '.jpg'):\n",
    "        continue\n",
    "    \n",
    "    inds_mask_filename = denseposeout / f'{image_filename.stem}_INDS{image_filename.suffix}' # example '01111_INDS.png'\n",
    "    iuv_mask_filename = denseposeout / f'{image_filename.stem}_IUV{image_filename.suffix}' # example '01111_IUV.png'\n",
    "    \n",
    "    # маска туловища\n",
    "    image = cv2.imread(str(image_filename))\n",
    "    iuv_mask = cv2.imread(str(iuv_mask_filename))[..., 0]\n",
    "    body = (iuv_mask == 2).astype(np.uint8)[..., np.newaxis]\n",
    "    image_body = image * body\n",
    "    \n",
    "    # обрежем туловище\n",
    "    body_points = np.argwhere(body[..., 0] == 1)\n",
    "    min_y, max_y = np.min(body_points[:, 0]), np.max(body_points[:, 0])\n",
    "    min_x, max_x = np.min(body_points[:, 1]), np.max(body_points[:, 1])\n",
    "    image_body_crop = image_body[min_y:max_y, min_x:max_x, :]\n",
    "    \n",
    "    cv2.imwrite(str(base_path / f'crops/body/{image_filename.name}'), image_body_crop)\n",
    "    "
   ]
  }
 ],
 "metadata": {
  "kernelspec": {
   "display_name": "Python 3",
   "language": "python",
   "name": "python3"
  },
  "language_info": {
   "codemirror_mode": {
    "name": "ipython",
    "version": 3
   },
   "file_extension": ".py",
   "mimetype": "text/x-python",
   "name": "python",
   "nbconvert_exporter": "python",
   "pygments_lexer": "ipython3",
   "version": "3.7.3"
  }
 },
 "nbformat": 4,
 "nbformat_minor": 4
}
