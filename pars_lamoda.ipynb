{
 "cells": [
  {
   "cell_type": "code",
   "execution_count": 1,
   "metadata": {},
   "outputs": [
    {
     "name": "stderr",
     "output_type": "stream",
     "text": [
      "/usr/local/lib/python3.7/site-packages/tqdm/autonotebook.py:17: TqdmExperimentalWarning: Using `tqdm.autonotebook.tqdm` in notebook mode. Use `tqdm.tqdm` instead to force console mode (e.g. in jupyter console)\n",
      "  \" (e.g. in jupyter console)\", TqdmExperimentalWarning)\n"
     ]
    }
   ],
   "source": [
    "import pickle \n",
    "import requests\n",
    "import shutil\n",
    "from pathlib import Path\n",
    "from tqdm.autonotebook import tqdm"
   ]
  },
  {
   "cell_type": "code",
   "execution_count": 2,
   "metadata": {},
   "outputs": [],
   "source": [
    "url = 'https://a.lmcdn.ru/product{0}'\n",
    "base_path = Path('./test_pictures/')\n",
    "if not base_path.exists():\n",
    "    base_path.mkdir()"
   ]
  },
  {
   "cell_type": "code",
   "execution_count": 3,
   "metadata": {},
   "outputs": [],
   "source": [
    "with open('out.pickle', 'rb') as f:\n",
    "    data = pickle.load(f)"
   ]
  },
  {
   "cell_type": "code",
   "execution_count": 4,
   "metadata": {},
   "outputs": [],
   "source": [
    "def save_image(url, output_filename):\n",
    "    while True:\n",
    "        try:\n",
    "            response = requests.get(url, stream=True)\n",
    "            break\n",
    "        except Exception as e:\n",
    "            print(f'Error: {e}')\n",
    "        \n",
    "    if response.status_code != 200:\n",
    "        return\n",
    "    with open(output_filename, 'wb') as out_file:\n",
    "        response.raw.decode_content = True\n",
    "        shutil.copyfileobj(response.raw, out_file)"
   ]
  },
  {
   "cell_type": "code",
   "execution_count": null,
   "metadata": {},
   "outputs": [
    {
     "data": {
      "application/vnd.jupyter.widget-view+json": {
       "model_id": "631351eda3124ca2bddd0ffc4575e554",
       "version_major": 2,
       "version_minor": 0
      },
      "text/plain": [
       "HBox(children=(IntProgress(value=0, description='Categories:', max=84, style=ProgressStyle(description_width='…"
      ]
     },
     "metadata": {},
     "output_type": "display_data"
    },
    {
     "data": {
      "application/vnd.jupyter.widget-view+json": {
       "model_id": "75f59472fbef48619a320bebf108e3d7",
       "version_major": 2,
       "version_minor": 0
      },
      "text/plain": [
       "HBox(children=(IntProgress(value=0, description='Product cat 5930: ', max=794, style=ProgressStyle(description…"
      ]
     },
     "metadata": {},
     "output_type": "display_data"
    },
    {
     "name": "stdout",
     "output_type": "stream",
     "text": [
      "Error: HTTPSConnectionPool(host='a.lmcdn.ru', port=443): Max retries exceeded with url: /product/M/P/MP002XW0R3UX_9004293_1_v1_2x.jpg (Caused by NewConnectionError('<urllib3.connection.VerifiedHTTPSConnection object at 0x17f66e080>: Failed to establish a new connection: [Errno 60] Operation timed out'))\n",
      "Error: HTTPSConnectionPool(host='a.lmcdn.ru', port=443): Max retries exceeded with url: /product/M/P/MP002XW0RKLE_9344637_3_v1_2x.jpg (Caused by NewConnectionError('<urllib3.connection.VerifiedHTTPSConnection object at 0x17f66ea58>: Failed to establish a new connection: [Errno 60] Operation timed out'))\n"
     ]
    }
   ],
   "source": [
    "for cat_id, products in tqdm(data.items(), desc='Categories:'):\n",
    "    for product in tqdm(products, desc=f'Product cat {cat_id}: ', leave=False):\n",
    "        for pic_url_suffix in product['gallery']:\n",
    "            output_filename = pic_url_suffix.split('/')[-1]\n",
    "            save_image(url.format(pic_url_suffix), str(base_path / output_filename))"
   ]
  }
 ],
 "metadata": {
  "kernelspec": {
   "display_name": "Python 3",
   "language": "python",
   "name": "python3"
  },
  "language_info": {
   "codemirror_mode": {
    "name": "ipython",
    "version": 3
   },
   "file_extension": ".py",
   "mimetype": "text/x-python",
   "name": "python",
   "nbconvert_exporter": "python",
   "pygments_lexer": "ipython3",
   "version": "3.7.3"
  }
 },
 "nbformat": 4,
 "nbformat_minor": 4
}
